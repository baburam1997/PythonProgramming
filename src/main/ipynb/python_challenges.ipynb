{
 "cells": [
  {
   "cell_type": "markdown",
   "metadata": {},
   "source": [
    "### Convert Binary Numbers to Decimal"
   ]
  },
  {
   "cell_type": "code",
   "execution_count": 2,
   "metadata": {},
   "outputs": [
    {
     "name": "stdout",
     "output_type": "stream",
     "text": [
      "10\n"
     ]
    }
   ],
   "source": [
    "binary = 1010\n",
    "decimal, i = 0, 0\n",
    "while(binary != 0):\n",
    "    dec = binary % 10\n",
    "    decimal = decimal + dec * pow(2, i)\n",
    "    binary = binary//10\n",
    "    i += 1\n",
    "print(decimal)\n"
   ]
  },
  {
   "cell_type": "markdown",
   "metadata": {},
   "source": [
    "### Is the Product Divisible by the Sum"
   ]
  },
  {
   "cell_type": "code",
   "execution_count": null,
   "metadata": {},
   "outputs": [],
   "source": [
    "def is_product_divisible_by_sum(numbers):\n",
    "    if not numbers:\n",
    "        return False\n",
    "\n",
    "    product = 1\n",
    "    summation = 0\n",
    "    for num in numbers:\n",
    "        product *= num\n",
    "        summation += num\n",
    "\n",
    "    if summation == 0:\n",
    "        return False\n",
    "\n",
    "    return product % summation == 0"
   ]
  }
 ],
 "metadata": {
  "kernelspec": {
   "display_name": "Python 3",
   "language": "python",
   "name": "python3"
  },
  "language_info": {
   "codemirror_mode": {
    "name": "ipython",
    "version": 3
   },
   "file_extension": ".py",
   "mimetype": "text/x-python",
   "name": "python",
   "nbconvert_exporter": "python",
   "pygments_lexer": "ipython3",
   "version": "3.10.12"
  }
 },
 "nbformat": 4,
 "nbformat_minor": 2
}
