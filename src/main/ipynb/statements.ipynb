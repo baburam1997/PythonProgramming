{
 "cells": [
  {
   "cell_type": "markdown",
   "metadata": {},
   "source": [
    "## Explicit Line Continuation (using ‘\\’)"
   ]
  },
  {
   "cell_type": "code",
   "execution_count": 4,
   "metadata": {},
   "outputs": [
    {
     "name": "stdout",
     "output_type": "stream",
     "text": [
      "\n",
      " Hi From ACME Engineering College,Affiliated to Purwanchal University,Provides Undergraduate and Graduate Degree Programlike Computer Engineering,CIVIL Engineering,Architecture.\n",
      "38\n"
     ]
    }
   ],
   "source": [
    "message = \"\"\"ACME Engineering College,\\\n",
    "Affiliated to Purvanchal University,\\\n",
    "Provides Undergraduate and Graduate Degree Program\\\n",
    "like Computer Engineering,\\\n",
    "CIVIL Engineering,\\\n",
    "Architecture.\"\"\"\n",
    "\n",
    "print(\n",
    "    \"\"\"\\n Hi From\\\n",
    "\"\"\",\n",
    "    message,\n",
    ")\n",
    "add = 50 + 40 - 52\n",
    "print(add)"
   ]
  },
  {
   "cell_type": "markdown",
   "metadata": {},
   "source": [
    "## Implicit Line Continuation\n"
   ]
  },
  {
   "cell_type": "markdown",
   "metadata": {},
   "source": [
    "### using parenthesis \"()\", \"{}\", or \"[]\""
   ]
  },
  {
   "cell_type": "code",
   "execution_count": 10,
   "metadata": {},
   "outputs": [
    {
     "name": "stdout",
     "output_type": "stream",
     "text": [
      "Hi,I amBaburam Shrestha\n",
      "[50, 23, 40, 'qw', 52]\n"
     ]
    }
   ],
   "source": [
    "# using parentheses \"()\"\n",
    "message = f\"Hi,\" f\"I am\" f\"Baburam Shrestha\"\n",
    "print(message)\n",
    "\n",
    "# using parentheses \"{}\"\n",
    "my_list = {5, 4, 3, 2, 1}\n",
    "# using parentheses \"[]\"\n",
    "numbers = [50, 23, 40, \"qw\", 52]\n",
    "print(numbers)"
   ]
  },
  {
   "cell_type": "markdown",
   "metadata": {},
   "source": [
    "### Using triple quote(line break)"
   ]
  },
  {
   "cell_type": "code",
   "execution_count": 18,
   "metadata": {},
   "outputs": [
    {
     "name": "stdout",
     "output_type": "stream",
     "text": [
      "\n",
      "    ACME Engineering College\n",
      "    Affiliated to Purvanchal University\n",
      "    Provides Undergraduate and Graduate Degree Program\n",
      "    like Computer Engineering\n",
      "    CIVIL Engineering\n",
      "    Architecture.\n",
      "\n",
      "'\\n    ACME Engineering College\\n    Affiliated to Purvanchal University\\n    Provides Undergraduate and Graduate Degree Program\\n    like Computer Engineering\\n    CIVIL Engineering\\n    Architecture.\\n'\n"
     ]
    }
   ],
   "source": [
    "message = \"\"\"\n",
    "    ACME Engineering College\n",
    "    Affiliated to Purvanchal University\n",
    "    Provides Undergraduate and Graduate Degree Program\n",
    "    like Computer Engineering\n",
    "    CIVIL Engineering\n",
    "    Architecture.\n",
    "\"\"\"\n",
    "print(message)\n",
    "print(f\"{message!r}\")"
   ]
  },
  {
   "cell_type": "code",
   "execution_count": 19,
   "metadata": {},
   "outputs": [
    {
     "name": "stdout",
     "output_type": "stream",
     "text": [
      "\n",
      "    ACME Engineering College\n",
      "    Affiliated to Purvanchal University\n",
      "    Provides Undergraduate and Graduate Degree Program\n",
      "    like Computer Engineering\n",
      "    CIVIL Engineering\n",
      "    Architecture.\n",
      "\n",
      "'\\n    ACME Engineering College\\n    Affiliated to Purvanchal University\\n    Provides Undergraduate and Graduate Degree Program\\n    like Computer Engineering\\n    CIVIL Engineering\\n    Architecture.\\n'\n"
     ]
    }
   ],
   "source": [
    "message = \"\"\"\n",
    "    ACME Engineering College\n",
    "    Affiliated to Purvanchal University\n",
    "    Provides Undergraduate and Graduate Degree Program\n",
    "    like Computer Engineering\n",
    "    CIVIL Engineering\n",
    "    Architecture.\n",
    "\"\"\"\n",
    "print(message)\n",
    "print(f\"{message!r}\")"
   ]
  },
  {
   "cell_type": "markdown",
   "metadata": {},
   "source": [
    "## If Statement\n"
   ]
  },
  {
   "cell_type": "code",
   "execution_count": 22,
   "metadata": {},
   "outputs": [
    {
     "name": "stdout",
     "output_type": "stream",
     "text": [
      "Valid age\n"
     ]
    }
   ],
   "source": [
    "age = 20\n",
    "if age > 0:\n",
    "    print(\"Valid age\")"
   ]
  },
  {
   "cell_type": "code",
   "execution_count": 24,
   "metadata": {},
   "outputs": [
    {
     "name": "stdout",
     "output_type": "stream",
     "text": [
      "You cannot vote.\n"
     ]
    }
   ],
   "source": [
    "age = 10\n",
    "if age < 18:\n",
    "    print(\"You cannot vote.\")"
   ]
  },
  {
   "cell_type": "code",
   "execution_count": 26,
   "metadata": {},
   "outputs": [
    {
     "name": "stdout",
     "output_type": "stream",
     "text": [
      "Even Number\n"
     ]
    }
   ],
   "source": [
    "number = 20\n",
    "if number % 2 == 0:\n",
    "    print(\"Even Number\")"
   ]
  },
  {
   "cell_type": "markdown",
   "metadata": {},
   "source": [
    "## If-else Statement"
   ]
  },
  {
   "cell_type": "code",
   "execution_count": 27,
   "metadata": {},
   "outputs": [
    {
     "name": "stdout",
     "output_type": "stream",
     "text": [
      "You can vote.\n"
     ]
    }
   ],
   "source": [
    "age = 20\n",
    "if age >= 18:\n",
    "    print(\"You can vote.\")\n",
    "else:\n",
    "    print(\"You cannot vote.\")"
   ]
  },
  {
   "cell_type": "code",
   "execution_count": 28,
   "metadata": {},
   "outputs": [
    {
     "name": "stdout",
     "output_type": "stream",
     "text": [
      "Odd Number\n"
     ]
    }
   ],
   "source": [
    "number = 20\n",
    "if number // 2 == 0:\n",
    "    print(\"Even Number\")\n",
    "else:\n",
    "    print(\"Odd Number\")"
   ]
  },
  {
   "cell_type": "markdown",
   "metadata": {},
   "source": [
    "## if-elif-else Statement"
   ]
  },
  {
   "cell_type": "code",
   "execution_count": 29,
   "metadata": {},
   "outputs": [
    {
     "name": "stdout",
     "output_type": "stream",
     "text": [
      "i is smaller than 15\n",
      "i is smaller than 12 too\n"
     ]
    }
   ],
   "source": [
    "i = 10\n",
    "# if statement\n",
    "if (i == 10):\n",
    "#  First if statement\n",
    "    if (i < 15):\n",
    "        print(\"i is smaller than 15\")\n",
    "    # Nested - if statement\n",
    "    # Will only be executed if statement above it is true\n",
    "    if (i < 12):\n",
    "        print(\"i is smaller than 12 too\")\n",
    "    else:\n",
    "        print(\"i is greater than 15\")"
   ]
  },
  {
   "cell_type": "code",
   "execution_count": 30,
   "metadata": {},
   "outputs": [
    {
     "name": "stdout",
     "output_type": "stream",
     "text": [
      "i is not present\n"
     ]
    }
   ],
   "source": [
    "i = 25\n",
    "if (i == 10):\n",
    "    print(\"i is 10\")\n",
    "elif (i == 15):\n",
    "    print(\"i is 15\")\n",
    "elif (i == 20):\n",
    "    print(\"i is 20\")\n",
    "else:\n",
    "    print(\"i is not present\")"
   ]
  },
  {
   "cell_type": "markdown",
   "metadata": {},
   "source": [
    "## Multiple condition"
   ]
  },
  {
   "cell_type": "code",
   "execution_count": 31,
   "metadata": {},
   "outputs": [
    {
     "name": "stdout",
     "output_type": "stream",
     "text": [
      "You are allowed to enter.\n"
     ]
    }
   ],
   "source": [
    "age = 25\n",
    "has_id = True\n",
    "if age >= 18 and has_id:\n",
    "    print(\"You are allowed to enter.\")\n",
    "else:\n",
    "    print(\"You cannot enter.\")\n"
   ]
  },
  {
   "cell_type": "code",
   "execution_count": 32,
   "metadata": {},
   "outputs": [
    {
     "name": "stdout",
     "output_type": "stream",
     "text": [
      "It's a good day for a walk.\n"
     ]
    }
   ],
   "source": [
    "temperature = 15\n",
    "raining = False\n",
    "if temperature > 20 or not raining:\n",
    "    print(\"It's a good day for a walk.\")\n",
    "else:\n",
    "    print(\"Better stay indoors.\")\n"
   ]
  },
  {
   "cell_type": "code",
   "execution_count": 33,
   "metadata": {},
   "outputs": [
    {
     "name": "stdout",
     "output_type": "stream",
     "text": [
      "It might rain today.\n"
     ]
    }
   ],
   "source": [
    "is_sunny = False\n",
    "if not is_sunny:\n",
    "    print(\"It might rain today.\")\n",
    "else:\n",
    "    print(\"It's sunny today.\")\n"
   ]
  },
  {
   "cell_type": "code",
   "execution_count": 34,
   "metadata": {},
   "outputs": [
    {
     "name": "stdout",
     "output_type": "stream",
     "text": [
      "You can enter, but no discount is available.\n"
     ]
    }
   ],
   "source": [
    "age = 20\n",
    "has_ticket = True\n",
    "is_student = False\n",
    "if age >= 18 and has_ticket and not is_student:\n",
    "    print(\"You can enter, but no discount is available.\")\n",
    "elif age >= 18 and has_ticket and is_student:\n",
    "    print(\"You can enter and get a student discount.\")\n",
    "else:\n",
    "    print(\"Entry not allowed.\")\n"
   ]
  }
 ],
 "metadata": {
  "kernelspec": {
   "display_name": "Python 3",
   "language": "python",
   "name": "python3"
  },
  "language_info": {
   "codemirror_mode": {
    "name": "ipython",
    "version": 3
   },
   "file_extension": ".py",
   "mimetype": "text/x-python",
   "name": "python",
   "nbconvert_exporter": "python",
   "pygments_lexer": "ipython3",
   "version": "3.10.12"
  }
 },
 "nbformat": 4,
 "nbformat_minor": 2
}
