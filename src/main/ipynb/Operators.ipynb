{
 "cells": [
  {
   "cell_type": "markdown",
   "metadata": {},
   "source": [
    "# Arithmetic Operators\n",
    "## Addition (+): Adds two operands.\n",
    "##  Subtraction (-): Subtracts the right operand from the left.\n",
    "##  Multiplication (*): Multiplies two operands.\n",
    "##  Division (/): Divides the left operand by the right operand.\n",
    "##  Floor Division (//): Divides and returns the integer value of the quotient.\n",
    "##  Modulus (%): Returns the remainder when the left operand is divided by the right.\n",
    "##  Exponentiation (**): Raises the left operand to the power of the right."
   ]
  },
  {
   "cell_type": "code",
   "execution_count": 10,
   "metadata": {},
   "outputs": [
    {
     "name": "stdout",
     "output_type": "stream",
     "text": [
      "13\n",
      "7\n",
      "30\n",
      "3.3333333333333335\n",
      "3\n",
      "1\n",
      "1000\n"
     ]
    }
   ],
   "source": [
    "a = 10\n",
    "b = 3\n",
    "\n",
    "print(a + b)   # 13\n",
    "print(a - b)   # 7\n",
    "print(a * b)   # 30\n",
    "print(a / b)   # 3.333...\n",
    "print(a // b)  # 3\n",
    "print(a % b)   # 1\n",
    "print(a ** b)  # 1000"
   ]
  },
  {
   "cell_type": "markdown",
   "metadata": {
    "vscode": {
     "languageId": "plaintext"
    }
   },
   "source": [
    "# Comparison Operators\n",
    "## Equal to (==): Checks if two operands are equal.\n",
    "## Not equal to (!=): Checks if two operands are not equal.\n",
    "## Greater than (>): Checks if the left operand is greater than the right.\n",
    "## Less than (<): Checks if the left operand is less than the right.\n",
    "## Greater than or equal to (>=): Checks if the left operand is greater than or equal to the right.\n",
    "## Less than or equal to (<=): Checks if the left operand is less than or equal to the right."
   ]
  },
  {
   "cell_type": "code",
   "execution_count": 11,
   "metadata": {},
   "outputs": [
    {
     "name": "stdout",
     "output_type": "stream",
     "text": [
      "False\n",
      "True\n",
      "False\n",
      "True\n",
      "False\n",
      "True\n"
     ]
    }
   ],
   "source": [
    "a = 5\n",
    "b = 10\n",
    "\n",
    "print(a == b)   # False\n",
    "print(a != b)   # True\n",
    "print(a > b)    # False\n",
    "print(a < b)    # True\n",
    "print(a >= b)   # False\n",
    "print(a <= b)   # True"
   ]
  },
  {
   "cell_type": "markdown",
   "metadata": {
    "vscode": {
     "languageId": "plaintext"
    }
   },
   "source": [
    "# Logical Operators\n",
    "## AND (and): Returns True if both operands are true.\n",
    "## OR (or): Returns True if at least one operand is true.\n",
    "## NOT (not): Reverses the logical state of its operand.\n"
   ]
  },
  {
   "cell_type": "code",
   "execution_count": 9,
   "metadata": {},
   "outputs": [
    {
     "name": "stdout",
     "output_type": "stream",
     "text": [
      "False\n",
      "True\n",
      "False\n"
     ]
    }
   ],
   "source": [
    "x = True\n",
    "y = False\n",
    "\n",
    "print(x and y)\n",
    "print(x or y)\n",
    "print(not x)"
   ]
  },
  {
   "cell_type": "markdown",
   "metadata": {
    "vscode": {
     "languageId": "plaintext"
    }
   },
   "source": [
    "# Bitwise Operators\n",
    "## AND (&): Performs a bitwise AND operation.\n",
    "## OR (|): Performs a bitwise OR operation.\n",
    "## XOR (^): Performs a bitwise XOR operation.\n",
    "## NOT (~): Performs a bitwise NOT operation.\n",
    "## Left Shift (<<): Shifts the bits of the operand to the left by the specified number of places.\n",
    "## Right Shift (>>): Shifts the bits of the operand to the right by the specified number of places."
   ]
  },
  {
   "cell_type": "code",
   "execution_count": 8,
   "metadata": {},
   "outputs": [
    {
     "name": "stdout",
     "output_type": "stream",
     "text": [
      "1\n",
      "7\n",
      "6\n",
      "-6\n",
      "10\n",
      "2\n"
     ]
    }
   ],
   "source": [
    "a = 5   # 0101 in binary\n",
    "b = 3   # 0011 in binary\n",
    "\n",
    "print(a & b)   # 1  (0001 in binary)\n",
    "print(a | b)   # 7  (0111 in binary)\n",
    "print(a ^ b)   # 6  (0110 in binary)\n",
    "print(~a)      # -6 (invert all bits)\n",
    "print(a << 1)  # 10 (1010 in binary)\n",
    "print(a >> 1)  # 2  (0010 in binary)"
   ]
  },
  {
   "cell_type": "markdown",
   "metadata": {
    "vscode": {
     "languageId": "plaintext"
    }
   },
   "source": [
    "# Assignment Operators\n",
    "## Assign (=): Assigns the right-hand value to the left-hand variable.\n",
    "## Add and assign (+=): Adds right-hand operand to left-hand operand and assigns the result to the left-hand operand.\n",
    "## Subtract and assign (-=): Subtracts right-hand operand from left-hand operand and assigns the result to the left-hand operand.\n",
    "## Multiply and assign (*=): Multiplies right-hand operand with left-hand operand and assigns the result to the left-hand operand.\n",
    "## Divide and assign (/=): Divides left-hand operand by right-hand operand and assigns the result to the left-hand operand.\n",
    "## Modulus and assign (%=): Takes modulus using two operands and assigns the result to the left-hand operand.\n",
    "## Exponent and assign (**=): Performs exponentiation using two operands and assigns the result to the left-hand operand.\n",
    "## Floor divide and assign (//=): Performs floor division using two operands and assigns the result to the left-hand operand."
   ]
  },
  {
   "cell_type": "code",
   "execution_count": 7,
   "metadata": {},
   "outputs": [
    {
     "name": "stdout",
     "output_type": "stream",
     "text": [
      "58\n",
      "61\n",
      "58\n",
      "116\n",
      "0\n",
      "2.25\n",
      "5.0625\n",
      "1.0\n"
     ]
    }
   ],
   "source": [
    "x = 58\n",
    "print(x)\n",
    "\n",
    "x += 3   # x = x + 3\n",
    "print(x)\n",
    "\n",
    "x -= 3   # x = x - 3\n",
    "print(x)\n",
    "\n",
    "x *= 2   # x = x * 2\n",
    "print(x)\n",
    "\n",
    "\n",
    "x %= 2   # x = x % 2\n",
    "print(x)\n",
    "\n",
    "x = 9\n",
    "x /= 4   # x = x / 4\n",
    "print(x)\n",
    "\n",
    "x **= 2   # x = x ** 2\n",
    "print(x)\n",
    "\n",
    "x //= 3   # x = x // 4\n",
    "print(x)"
   ]
  },
  {
   "cell_type": "markdown",
   "metadata": {},
   "source": [
    "# Identity Operators\n",
    "## is: Evaluates to True if the variables on either side of the operator point to the same object and False otherwise.\n",
    "## is not: Evaluates to True if the variables on either side of the operator do not point to the same object and False otherwise."
   ]
  },
  {
   "cell_type": "code",
   "execution_count": 3,
   "metadata": {},
   "outputs": [
    {
     "name": "stdout",
     "output_type": "stream",
     "text": [
      "True\n",
      "False\n",
      "True\n"
     ]
    }
   ],
   "source": [
    "a = [1, 2, 3]\n",
    "b = a\n",
    "c = [1, 2, 3]\n",
    "\n",
    "print(a is b)\n",
    "print(a is c)\n",
    "print(a is not c)"
   ]
  },
  {
   "cell_type": "markdown",
   "metadata": {
    "vscode": {
     "languageId": "plaintext"
    }
   },
   "source": [
    "# Membership Operators\n",
    "## in: Evaluates to True if it finds a variable in the specified sequence and False otherwise.\n",
    "## not in: Evaluates to True if it does not find a variable in the specified sequence and False otherwise."
   ]
  },
  {
   "cell_type": "code",
   "execution_count": 2,
   "metadata": {},
   "outputs": [
    {
     "name": "stdout",
     "output_type": "stream",
     "text": [
      "True\n",
      "True\n"
     ]
    }
   ],
   "source": [
    "x = [1, 2, 3, 4, 5]\n",
    "\n",
    "print(3 in x)\n",
    "print(6 not in x)"
   ]
  },
  {
   "cell_type": "markdown",
   "metadata": {
    "vscode": {
     "languageId": "plaintext"
    }
   },
   "source": [
    "# Ternary Operator\n",
    "## Conditional Expression: Allows you to assign a value to a variable based on a condition."
   ]
  },
  {
   "cell_type": "code",
   "execution_count": 4,
   "metadata": {},
   "outputs": [
    {
     "name": "stdout",
     "output_type": "stream",
     "text": [
      "10\n"
     ]
    }
   ],
   "source": [
    "a = 50\n",
    "b = 10\n",
    "\n",
    "min_value = a if a < b else b\n",
    "print(min_value)"
   ]
  },
  {
   "cell_type": "code",
   "execution_count": null,
   "metadata": {},
   "outputs": [],
   "source": []
  }
 ],
 "metadata": {
  "kernelspec": {
   "display_name": "Python 3",
   "language": "python",
   "name": "python3"
  },
  "language_info": {
   "codemirror_mode": {
    "name": "ipython",
    "version": 3
   },
   "file_extension": ".py",
   "mimetype": "text/x-python",
   "name": "python",
   "nbconvert_exporter": "python",
   "pygments_lexer": "ipython3",
   "version": "3.10.12"
  }
 },
 "nbformat": 4,
 "nbformat_minor": 2
}
